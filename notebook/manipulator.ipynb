{
 "cells": [
  {
   "cell_type": "code",
   "execution_count": null,
   "id": "initial_id",
   "metadata": {
    "ExecuteTime": {
     "end_time": "2024-09-02T14:12:18.182391Z",
     "start_time": "2024-09-02T14:12:07.313689Z"
    },
    "collapsed": true
   },
   "outputs": [],
   "source": [
    "import numpy as np\n",
    "import matplotlib.pyplot as plt\n",
    "import matplotlib.animation as animation\n",
    "import csv\n",
    "\n",
    "%matplotlib widget\n",
    "\n",
    "fig, ax = plt.subplots()\n",
    "ax.set_xlim(-2, 2)\n",
    "ax.set_ylim(-2, 2)\n",
    "line, = ax.plot([], [], 'o-', lw=2)\n",
    "\n",
    "f = open(\"run3.csv\", \"r\")\n",
    "csvFile = csv.DictReader(f)\n",
    "\n",
    "def init():\n",
    "    line.set_data([], [])\n",
    "    return line,\n",
    "\n",
    "\n",
    "def update(frame):\n",
    "    try:\n",
    "        for i in range(5):\n",
    "            n = next(csvFile)\n",
    "        q1, q2 = float(n[\"q1\"]), float(n[\"q2\"])\n",
    "        x1 = np.cos(q1)\n",
    "        y1 = np.sin(q1)\n",
    "        x2 = x1 + np.cos(q1 + q2)\n",
    "        y2 = y1 + np.sin(q1 + q2)\n",
    "        line.set_data([0, x1, x2], [0, y1, y2])\n",
    "    except StopIteration:\n",
    "        pass\n",
    "    return line\n",
    "        \n",
    "    \n",
    "        \n",
    "ani = animation.FuncAnimation(fig, update, frames=300, init_func=init, blit=True, interval=20)\n",
    "# writer = animation.PillowWriter(fps=15,\n",
    "#                                 metadata=dict(artist='Me'),\n",
    "#                                 bitrate=1800)\n",
    "# ani.save(\"a.gif\", writer=writer)\n",
    "plt.show(block=True)\n"
   ]
  }
 ],
 "metadata": {
  "kernelspec": {
   "display_name": "Python 3",
   "language": "python",
   "name": "python3"
  },
  "language_info": {
   "codemirror_mode": {
    "name": "ipython",
    "version": 3
   },
   "file_extension": ".py",
   "mimetype": "text/x-python",
   "name": "python",
   "nbconvert_exporter": "python",
   "pygments_lexer": "ipython3",
   "version": "3.9.13"
  }
 },
 "nbformat": 4,
 "nbformat_minor": 5
}
